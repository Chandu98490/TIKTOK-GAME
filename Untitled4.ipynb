{
 "cells": [
  {
   "cell_type": "code",
   "execution_count": 50,
   "metadata": {},
   "outputs": [],
   "source": [
    "import pandas as pd"
   ]
  },
  {
   "cell_type": "code",
   "execution_count": 56,
   "metadata": {},
   "outputs": [],
   "source": [
    "data=pd.read_excel(\"TEST.xlsx\",sheet_name=\"Sheet6\")"
   ]
  },
  {
   "cell_type": "code",
   "execution_count": 57,
   "metadata": {},
   "outputs": [
    {
     "data": {
      "text/html": [
       "<div>\n",
       "<style scoped>\n",
       "    .dataframe tbody tr th:only-of-type {\n",
       "        vertical-align: middle;\n",
       "    }\n",
       "\n",
       "    .dataframe tbody tr th {\n",
       "        vertical-align: top;\n",
       "    }\n",
       "\n",
       "    .dataframe thead th {\n",
       "        text-align: right;\n",
       "    }\n",
       "</style>\n",
       "<table border=\"1\" class=\"dataframe\">\n",
       "  <thead>\n",
       "    <tr style=\"text-align: right;\">\n",
       "      <th></th>\n",
       "      <th>CUS_COST_CENTER_TO_CCAT_XREF</th>\n",
       "    </tr>\n",
       "  </thead>\n",
       "  <tbody>\n",
       "    <tr>\n",
       "      <th>0</th>\n",
       "      <td>CONTRCT_F_BYCSUBC_CON_INT_XREF</td>\n",
       "    </tr>\n",
       "    <tr>\n",
       "      <th>1</th>\n",
       "      <td>CCAT_CNTRY_BCHNL_TO_COMP_XREF</td>\n",
       "    </tr>\n",
       "    <tr>\n",
       "      <th>2</th>\n",
       "      <td>CCAT_CNTRY_BCHNL_POAMT_PFLG_XR</td>\n",
       "    </tr>\n",
       "    <tr>\n",
       "      <th>3</th>\n",
       "      <td>CLIENT_CAT_IND_TO_CCAT_XREF</td>\n",
       "    </tr>\n",
       "    <tr>\n",
       "      <th>4</th>\n",
       "      <td>CCAT_BUY_CHNL_TO_COMP_XREF</td>\n",
       "    </tr>\n",
       "    <tr>\n",
       "      <th>5</th>\n",
       "      <td>SUP_SCAT_BUY_CHNL_TO_COMP_XREF</td>\n",
       "    </tr>\n",
       "    <tr>\n",
       "      <th>6</th>\n",
       "      <td>CCAT_CNTRY_POAMT_PREF_FLG_XREF</td>\n",
       "    </tr>\n",
       "    <tr>\n",
       "      <th>7</th>\n",
       "      <td>CUS_SUP_EID_TO_CCAT_XREF</td>\n",
       "    </tr>\n",
       "    <tr>\n",
       "      <th>8</th>\n",
       "      <td>SCAT_BUY_CHANNEL_TO_COMP_XREF</td>\n",
       "    </tr>\n",
       "    <tr>\n",
       "      <th>9</th>\n",
       "      <td>HIERARCHY20_BY_CAT_XREF</td>\n",
       "    </tr>\n",
       "    <tr>\n",
       "      <th>10</th>\n",
       "      <td>CUS_MAT_SUP_UOM_TO_MASTR_XREF</td>\n",
       "    </tr>\n",
       "    <tr>\n",
       "      <th>11</th>\n",
       "      <td>PREF_SUP_IND_CCAT_TO_PFLG_XREF</td>\n",
       "    </tr>\n",
       "    <tr>\n",
       "      <th>12</th>\n",
       "      <td>SUP_CCAT_CNTRY_BCHNL_COMP_XREF</td>\n",
       "    </tr>\n",
       "    <tr>\n",
       "      <th>13</th>\n",
       "      <td>CCAT_SUP_ID_TO_PREF_SUP_XREF</td>\n",
       "    </tr>\n",
       "  </tbody>\n",
       "</table>\n",
       "</div>"
      ],
      "text/plain": [
       "      CUS_COST_CENTER_TO_CCAT_XREF\n",
       "0   CONTRCT_F_BYCSUBC_CON_INT_XREF\n",
       "1    CCAT_CNTRY_BCHNL_TO_COMP_XREF\n",
       "2   CCAT_CNTRY_BCHNL_POAMT_PFLG_XR\n",
       "3      CLIENT_CAT_IND_TO_CCAT_XREF\n",
       "4       CCAT_BUY_CHNL_TO_COMP_XREF\n",
       "5   SUP_SCAT_BUY_CHNL_TO_COMP_XREF\n",
       "6   CCAT_CNTRY_POAMT_PREF_FLG_XREF\n",
       "7         CUS_SUP_EID_TO_CCAT_XREF\n",
       "8    SCAT_BUY_CHANNEL_TO_COMP_XREF\n",
       "9          HIERARCHY20_BY_CAT_XREF\n",
       "10   CUS_MAT_SUP_UOM_TO_MASTR_XREF\n",
       "11  PREF_SUP_IND_CCAT_TO_PFLG_XREF\n",
       "12  SUP_CCAT_CNTRY_BCHNL_COMP_XREF\n",
       "13    CCAT_SUP_ID_TO_PREF_SUP_XREF"
      ]
     },
     "execution_count": 57,
     "metadata": {},
     "output_type": "execute_result"
    }
   ],
   "source": [
    "data"
   ]
  },
  {
   "cell_type": "code",
   "execution_count": 58,
   "metadata": {},
   "outputs": [],
   "source": [
    "data1=pd.read_excel(\"TEST.xlsx\",sheet_name=\"Sheet5\")"
   ]
  },
  {
   "cell_type": "code",
   "execution_count": 59,
   "metadata": {},
   "outputs": [
    {
     "data": {
      "text/html": [
       "<div>\n",
       "<style scoped>\n",
       "    .dataframe tbody tr th:only-of-type {\n",
       "        vertical-align: middle;\n",
       "    }\n",
       "\n",
       "    .dataframe tbody tr th {\n",
       "        vertical-align: top;\n",
       "    }\n",
       "\n",
       "    .dataframe thead th {\n",
       "        text-align: right;\n",
       "    }\n",
       "</style>\n",
       "<table border=\"1\" class=\"dataframe\">\n",
       "  <thead>\n",
       "    <tr style=\"text-align: right;\">\n",
       "      <th></th>\n",
       "      <th>OPS</th>\n",
       "      <th>SPEND_HEADER</th>\n",
       "      <th>487394407</th>\n",
       "    </tr>\n",
       "  </thead>\n",
       "  <tbody>\n",
       "    <tr>\n",
       "      <th>0</th>\n",
       "      <td>OPS</td>\n",
       "      <td>INV_SPEND</td>\n",
       "      <td>370616557</td>\n",
       "    </tr>\n",
       "    <tr>\n",
       "      <th>1</th>\n",
       "      <td>OPS</td>\n",
       "      <td>SPEND_STG</td>\n",
       "      <td>354233712</td>\n",
       "    </tr>\n",
       "    <tr>\n",
       "      <th>2</th>\n",
       "      <td>OPS</td>\n",
       "      <td>PCD_SPEND</td>\n",
       "      <td>67005170</td>\n",
       "    </tr>\n",
       "    <tr>\n",
       "      <th>3</th>\n",
       "      <td>OPS</td>\n",
       "      <td>PO_SPEND</td>\n",
       "      <td>28923546</td>\n",
       "    </tr>\n",
       "    <tr>\n",
       "      <th>4</th>\n",
       "      <td>OPS</td>\n",
       "      <td>LOG_SPEND</td>\n",
       "      <td>15345725</td>\n",
       "    </tr>\n",
       "    <tr>\n",
       "      <th>...</th>\n",
       "      <td>...</td>\n",
       "      <td>...</td>\n",
       "      <td>...</td>\n",
       "    </tr>\n",
       "    <tr>\n",
       "      <th>334</th>\n",
       "      <td>RPT_XREF</td>\n",
       "      <td>CUS_MAT_SUP_UOM_TO_MASTR_XREF</td>\n",
       "      <td>0</td>\n",
       "    </tr>\n",
       "    <tr>\n",
       "      <th>335</th>\n",
       "      <td>RPT_XREF</td>\n",
       "      <td>CUS_IDX_NM_TO_INDEX_XREF</td>\n",
       "      <td>0</td>\n",
       "    </tr>\n",
       "    <tr>\n",
       "      <th>336</th>\n",
       "      <td>RPT_XREF</td>\n",
       "      <td>CUS_LOC_CD_TO_LOCATION_XREF</td>\n",
       "      <td>0</td>\n",
       "    </tr>\n",
       "    <tr>\n",
       "      <th>337</th>\n",
       "      <td>RPT_XREF</td>\n",
       "      <td>CUS_SUP_EID_TO_DIRECT_XREF</td>\n",
       "      <td>0</td>\n",
       "    </tr>\n",
       "    <tr>\n",
       "      <th>338</th>\n",
       "      <td>OPS</td>\n",
       "      <td>LU_DISPLAY_REFERENCE</td>\n",
       "      <td>0</td>\n",
       "    </tr>\n",
       "  </tbody>\n",
       "</table>\n",
       "<p>339 rows × 3 columns</p>\n",
       "</div>"
      ],
      "text/plain": [
       "          OPS                   SPEND_HEADER  487394407\n",
       "0         OPS                      INV_SPEND  370616557\n",
       "1         OPS                      SPEND_STG  354233712\n",
       "2         OPS                      PCD_SPEND   67005170\n",
       "3         OPS                       PO_SPEND   28923546\n",
       "4         OPS                      LOG_SPEND   15345725\n",
       "..        ...                            ...        ...\n",
       "334  RPT_XREF  CUS_MAT_SUP_UOM_TO_MASTR_XREF          0\n",
       "335  RPT_XREF       CUS_IDX_NM_TO_INDEX_XREF          0\n",
       "336  RPT_XREF    CUS_LOC_CD_TO_LOCATION_XREF          0\n",
       "337  RPT_XREF     CUS_SUP_EID_TO_DIRECT_XREF          0\n",
       "338       OPS           LU_DISPLAY_REFERENCE          0\n",
       "\n",
       "[339 rows x 3 columns]"
      ]
     },
     "execution_count": 59,
     "metadata": {},
     "output_type": "execute_result"
    }
   ],
   "source": [
    "data1"
   ]
  },
  {
   "cell_type": "code",
   "execution_count": 60,
   "metadata": {},
   "outputs": [
    {
     "name": "stdout",
     "output_type": "stream",
     "text": [
      "1\n",
      "0\n",
      "0\n",
      "41545\n",
      "3262\n",
      "20449\n",
      "0\n",
      "0\n",
      "160\n",
      "0\n",
      "0\n",
      "1101958\n",
      "8928\n",
      "261\n"
     ]
    }
   ],
   "source": [
    "list=[]\n",
    "k=0\n",
    "for j in range(len(data['CUS_COST_CENTER_TO_CCAT_XREF'])):\n",
    "        for i in range(len(data1['SPEND_HEADER'])):\n",
    "            if data['CUS_COST_CENTER_TO_CCAT_XREF'].iloc[j] == data1['SPEND_HEADER'].iloc[i]:\n",
    "                print(data1[487394407].iloc[i])\n",
    "                \n"
   ]
  },
  {
   "cell_type": "code",
   "execution_count": 38,
   "metadata": {},
   "outputs": [
    {
     "data": {
      "text/plain": [
       "0      370616557\n",
       "1      353896610\n",
       "2       65964632\n",
       "3       28923546\n",
       "4       15345725\n",
       "         ...    \n",
       "335            0\n",
       "336            0\n",
       "337            0\n",
       "338            0\n",
       "339            0\n",
       "Name: 487394407, Length: 340, dtype: int64"
      ]
     },
     "execution_count": 38,
     "metadata": {},
     "output_type": "execute_result"
    }
   ],
   "source": [
    "data1[487394407]"
   ]
  },
  {
   "cell_type": "code",
   "execution_count": null,
   "metadata": {},
   "outputs": [],
   "source": []
  }
 ],
 "metadata": {
  "kernelspec": {
   "display_name": "Python 3",
   "language": "python",
   "name": "python3"
  },
  "language_info": {
   "codemirror_mode": {
    "name": "ipython",
    "version": 3
   },
   "file_extension": ".py",
   "mimetype": "text/x-python",
   "name": "python",
   "nbconvert_exporter": "python",
   "pygments_lexer": "ipython3",
   "version": "3.8.5"
  }
 },
 "nbformat": 4,
 "nbformat_minor": 4
}
